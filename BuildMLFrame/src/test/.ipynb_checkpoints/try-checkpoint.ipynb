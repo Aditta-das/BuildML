{
 "cells": [
  {
   "cell_type": "code",
   "execution_count": null,
   "metadata": {},
   "outputs": [
    {
     "ename": "OSError",
     "evalue": "\"/usr/bin/zsh\" shell not found",
     "output_type": "error",
     "traceback": [
      "\u001b[0;31m---------------------------------------------------------------------------\u001b[0m",
      "\u001b[0;31mOSError\u001b[0m                                   Traceback (most recent call last)",
      "Cell \u001b[0;32mIn[1], line 1\u001b[0m\n\u001b[0;32m----> 1\u001b[0m get_ipython()\u001b[39m.\u001b[39;49msystem(\u001b[39m'\u001b[39;49m\u001b[39mls\u001b[39;49m\u001b[39m'\u001b[39;49m)\n",
      "File \u001b[0;32m~/Desktop/BuildMLModel/lib/python3.10/site-packages/ipykernel/zmqshell.py:649\u001b[0m, in \u001b[0;36mZMQInteractiveShell.system_piped\u001b[0;34m(self, cmd)\u001b[0m\n\u001b[1;32m    647\u001b[0m         \u001b[39mself\u001b[39m\u001b[39m.\u001b[39muser_ns[\u001b[39m\"\u001b[39m\u001b[39m_exit_code\u001b[39m\u001b[39m\"\u001b[39m] \u001b[39m=\u001b[39m system(cmd)\n\u001b[1;32m    648\u001b[0m \u001b[39melse\u001b[39;00m:\n\u001b[0;32m--> 649\u001b[0m     \u001b[39mself\u001b[39m\u001b[39m.\u001b[39muser_ns[\u001b[39m\"\u001b[39m\u001b[39m_exit_code\u001b[39m\u001b[39m\"\u001b[39m] \u001b[39m=\u001b[39m system(\u001b[39mself\u001b[39;49m\u001b[39m.\u001b[39;49mvar_expand(cmd, depth\u001b[39m=\u001b[39;49m\u001b[39m1\u001b[39;49m))\n",
      "File \u001b[0;32m~/Desktop/BuildMLModel/lib/python3.10/site-packages/IPython/utils/_process_posix.py:148\u001b[0m, in \u001b[0;36mProcessHandler.system\u001b[0;34m(self, cmd)\u001b[0m\n\u001b[1;32m    146\u001b[0m     child \u001b[39m=\u001b[39m pexpect\u001b[39m.\u001b[39mspawnb(\u001b[39mself\u001b[39m\u001b[39m.\u001b[39msh, args\u001b[39m=\u001b[39m[\u001b[39m'\u001b[39m\u001b[39m-c\u001b[39m\u001b[39m'\u001b[39m, cmd]) \u001b[39m# Pexpect-U\u001b[39;00m\n\u001b[1;32m    147\u001b[0m \u001b[39melse\u001b[39;00m:\n\u001b[0;32m--> 148\u001b[0m     child \u001b[39m=\u001b[39m pexpect\u001b[39m.\u001b[39mspawn(\u001b[39mself\u001b[39;49m\u001b[39m.\u001b[39;49msh, args\u001b[39m=\u001b[39m[\u001b[39m'\u001b[39m\u001b[39m-c\u001b[39m\u001b[39m'\u001b[39m, cmd])  \u001b[39m# Vanilla Pexpect\u001b[39;00m\n\u001b[1;32m    149\u001b[0m flush \u001b[39m=\u001b[39m sys\u001b[39m.\u001b[39mstdout\u001b[39m.\u001b[39mflush\n\u001b[1;32m    150\u001b[0m \u001b[39mwhile\u001b[39;00m \u001b[39mTrue\u001b[39;00m:\n\u001b[1;32m    151\u001b[0m     \u001b[39m# res is the index of the pattern that caused the match, so we\u001b[39;00m\n\u001b[1;32m    152\u001b[0m     \u001b[39m# know whether we've finished (if we matched EOF) or not\u001b[39;00m\n",
      "File \u001b[0;32m~/Desktop/BuildMLModel/lib/python3.10/site-packages/IPython/utils/_process_posix.py:57\u001b[0m, in \u001b[0;36mProcessHandler.sh\u001b[0;34m(self)\u001b[0m\n\u001b[1;32m     55\u001b[0m     \u001b[39mself\u001b[39m\u001b[39m.\u001b[39m_sh \u001b[39m=\u001b[39m pexpect\u001b[39m.\u001b[39mwhich(shell_name)\n\u001b[1;32m     56\u001b[0m     \u001b[39mif\u001b[39;00m \u001b[39mself\u001b[39m\u001b[39m.\u001b[39m_sh \u001b[39mis\u001b[39;00m \u001b[39mNone\u001b[39;00m:\n\u001b[0;32m---> 57\u001b[0m         \u001b[39mraise\u001b[39;00m \u001b[39mOSError\u001b[39;00m(\u001b[39m'\u001b[39m\u001b[39m\"\u001b[39m\u001b[39m{}\u001b[39;00m\u001b[39m\"\u001b[39m\u001b[39m shell not found\u001b[39m\u001b[39m'\u001b[39m\u001b[39m.\u001b[39mformat(shell_name))\n\u001b[1;32m     59\u001b[0m \u001b[39mreturn\u001b[39;00m \u001b[39mself\u001b[39m\u001b[39m.\u001b[39m_sh\n",
      "\u001b[0;31mOSError\u001b[0m: \"/usr/bin/zsh\" shell not found"
     ]
    }
   ],
   "source": [
    "!ls "
   ]
  },
  {
   "cell_type": "code",
   "execution_count": null,
   "metadata": {},
   "outputs": [],
   "source": [
    "python3 main.py --path /home/aditta/Desktop/BuildMLModel/BuildMLFrame/src/test/cancer_patient.xlsx --label Level --encoder first"
   ]
  }
 ],
 "metadata": {
  "kernelspec": {
   "display_name": "Python 3.10.6 ('BuildMLModel': venv)",
   "language": "python",
   "name": "python3"
  },
  "language_info": {
   "codemirror_mode": {
    "name": "ipython",
    "version": 3
   },
   "file_extension": ".py",
   "mimetype": "text/x-python",
   "name": "python",
   "nbconvert_exporter": "python",
   "pygments_lexer": "ipython3",
   "version": "3.10.6"
  },
  "orig_nbformat": 4,
  "vscode": {
   "interpreter": {
    "hash": "540ceea64c527deff0f7eaad8b9a810d9018e1efba2b3edc2d0a108fb6b7f9c7"
   }
  }
 },
 "nbformat": 4,
 "nbformat_minor": 2
}
